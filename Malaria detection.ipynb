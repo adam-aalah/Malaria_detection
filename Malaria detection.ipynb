{
 "cells": [
  {
   "cell_type": "code",
   "execution_count": 1,
   "id": "27b522fe",
   "metadata": {
    "ExecuteTime": {
     "end_time": "2023-03-01T21:57:29.720055Z",
     "start_time": "2023-03-01T21:57:22.330208Z"
    }
   },
   "outputs": [],
   "source": [
    "import numpy as np\n",
    "import matplotlib.pyplot as plt\n",
    "import tensorflow as tf\n",
    "from tensorflow.keras.models import Model, Sequential\n",
    "from tensorflow.keras.layers import Dense, Input, Lambda, Flatten, Conv2D\n",
    "from tensorflow.keras.applications.vgg19 import VGG19\n",
    "from tensorflow.keras.applications.resnet50 import preprocess_input\n",
    "from tensorflow.keras.preprocessing import image\n",
    "from tensorflow.keras.preprocessing.image import ImageDataGenerator,load_img\n",
    "from glob import glob\n",
    "from sklearn.model_selection import train_test_split\n",
    "import os\n",
    "\n",
    "import splitfolders"
   ]
  },
  {
   "cell_type": "code",
   "execution_count": 7,
   "id": "06ce214d",
   "metadata": {
    "ExecuteTime": {
     "end_time": "2023-03-01T22:03:28.000302Z",
     "start_time": "2023-03-01T22:03:27.982348Z"
    }
   },
   "outputs": [],
   "source": [
    "# specify the paths to datasets\n",
    "PATH_DIR = 'C:/Users/aalah/1_Object_detection/cell_images/'\n",
    "TRAIN_DIR = 'cell_images2/train/'\n",
    "VAL_DIR = 'cell_images2/val/'\n",
    "TEST_DIR = 'cell_images2/test/'\n",
    "\n",
    "# set image size\n",
    "IMAGE_SIZE = [224,224]\n"
   ]
  },
  {
   "cell_type": "code",
   "execution_count": 6,
   "id": "16d78866",
   "metadata": {
    "ExecuteTime": {
     "end_time": "2023-03-01T22:03:25.171267Z",
     "start_time": "2023-03-01T21:58:24.855164Z"
    }
   },
   "outputs": [
    {
     "name": "stderr",
     "output_type": "stream",
     "text": [
      "Copying files: 27560 files [05:00, 91.78 files/s] \n"
     ]
    }
   ],
   "source": [
    "splitfolders.ratio(PATH_DIR, \n",
    "                   output=\"cell_images2\", \n",
    "                   seed=42, \n",
    "                   ratio=(.7, .2, .1), \n",
    "                   group_prefix=None) "
   ]
  },
  {
   "cell_type": "code",
   "execution_count": 11,
   "id": "f9f69537",
   "metadata": {
    "ExecuteTime": {
     "end_time": "2023-03-01T22:08:55.531925Z",
     "start_time": "2023-03-01T22:08:55.508476Z"
    }
   },
   "outputs": [
    {
     "data": {
      "text/plain": [
       "['cell_images2/train\\\\Parasitized', 'cell_images2/train\\\\Uninfected']"
      ]
     },
     "execution_count": 11,
     "metadata": {},
     "output_type": "execute_result"
    }
   ],
   "source": [
    "folders=glob('cell_images2/train/*')\n",
    "folders"
   ]
  },
  {
   "cell_type": "code",
   "execution_count": 30,
   "id": "e8a4258b",
   "metadata": {
    "ExecuteTime": {
     "end_time": "2023-03-01T22:41:42.964655Z",
     "start_time": "2023-03-01T22:41:42.859420Z"
    }
   },
   "outputs": [
    {
     "name": "stdout",
     "output_type": "stream",
     "text": [
      "Model: \"sequential_2\"\n",
      "_________________________________________________________________\n",
      " Layer (type)                Output Shape              Param #   \n",
      "=================================================================\n",
      " conv2d_3 (Conv2D)           (None, 224, 224, 16)      208       \n",
      "                                                                 \n",
      " max_pooling2d_3 (MaxPooling  (None, 112, 112, 16)     0         \n",
      " 2D)                                                             \n",
      "                                                                 \n",
      " conv2d_4 (Conv2D)           (None, 112, 112, 32)      2080      \n",
      "                                                                 \n",
      " max_pooling2d_4 (MaxPooling  (None, 56, 56, 32)       0         \n",
      " 2D)                                                             \n",
      "                                                                 \n",
      " conv2d_5 (Conv2D)           (None, 56, 56, 64)        8256      \n",
      "                                                                 \n",
      " max_pooling2d_5 (MaxPooling  (None, 28, 28, 64)       0         \n",
      " 2D)                                                             \n",
      "                                                                 \n",
      " flatten_2 (Flatten)         (None, 50176)             0         \n",
      "                                                                 \n",
      " dense_5 (Dense)             (None, 500)               25088500  \n",
      "                                                                 \n",
      " dense_6 (Dense)             (None, 2)                 1002      \n",
      "                                                                 \n",
      "=================================================================\n",
      "Total params: 25,100,046\n",
      "Trainable params: 25,100,046\n",
      "Non-trainable params: 0\n",
      "_________________________________________________________________\n"
     ]
    }
   ],
   "source": [
    "from tensorflow.keras.layers import MaxPooling2D\n",
    "# Creating the model from scratch\n",
    "model = Sequential()\n",
    "model.add(Conv2D(filters=16,kernel_size=2,padding=\"same\",activation='relu',input_shape=IMAGE_SIZE+[3]))\n",
    "model.add(MaxPooling2D(pool_size=2))\n",
    "model.add(Conv2D(filters=32,kernel_size=2,padding=\"same\",activation='relu'))\n",
    "model.add(MaxPooling2D(pool_size=2))\n",
    "model.add(Conv2D(filters=64,kernel_size=2,padding=\"same\",activation='relu'))\n",
    "model.add(MaxPooling2D(pool_size=2))\n",
    "model.add(Flatten())\n",
    "model.add(Dense(500,activation=\"relu\"))\n",
    "model.add(Dense(2,activation=\"softmax\"))\n",
    "\n",
    "model.summary()\n"
   ]
  },
  {
   "cell_type": "code",
   "execution_count": 31,
   "id": "07a58b89",
   "metadata": {
    "ExecuteTime": {
     "end_time": "2023-03-01T22:41:43.371428Z",
     "start_time": "2023-03-01T22:41:43.353473Z"
    }
   },
   "outputs": [],
   "source": [
    "model.compile(loss='categorical_crossentropy',optimizer='Adam',metrics=['accuracy'])"
   ]
  },
  {
   "cell_type": "code",
   "execution_count": 32,
   "id": "9293f9ae",
   "metadata": {
    "ExecuteTime": {
     "end_time": "2023-03-01T22:41:43.979285Z",
     "start_time": "2023-03-01T22:41:43.971306Z"
    }
   },
   "outputs": [],
   "source": [
    "#image data augmentation\n",
    "train_datagen = ImageDataGenerator(rescale=1./255, shear_range=0.2,zoom_range=0.2,horizontal_flip=True)\n",
    "\n",
    "val_datagen = ImageDataGenerator(rescale=1./255, shear_range=0.2,zoom_range=0.2,horizontal_flip=True)\n",
    "\n",
    "test_datagen = ImageDataGenerator(rescale=1./255) #rescaling from [0 to 255] to [0 to 1]"
   ]
  },
  {
   "cell_type": "code",
   "execution_count": 33,
   "id": "fe649ac5",
   "metadata": {
    "ExecuteTime": {
     "end_time": "2023-03-01T22:41:45.424367Z",
     "start_time": "2023-03-01T22:41:44.575851Z"
    }
   },
   "outputs": [
    {
     "name": "stdout",
     "output_type": "stream",
     "text": [
      "Found 19290 images belonging to 2 classes.\n"
     ]
    },
    {
     "data": {
      "text/plain": [
       "<keras.preprocessing.image.DirectoryIterator at 0x23ccef43df0>"
      ]
     },
     "execution_count": 33,
     "metadata": {},
     "output_type": "execute_result"
    }
   ],
   "source": [
    "train_set = train_datagen.flow_from_directory('cell_images2/train/',target_size=(224,224),batch_size=32,\n",
    "                                              class_mode='categorical')\n",
    "train_set"
   ]
  },
  {
   "cell_type": "code",
   "execution_count": 34,
   "id": "07211858",
   "metadata": {
    "ExecuteTime": {
     "end_time": "2023-03-01T22:41:45.909664Z",
     "start_time": "2023-03-01T22:41:45.427359Z"
    }
   },
   "outputs": [
    {
     "name": "stdout",
     "output_type": "stream",
     "text": [
      "Found 5512 images belonging to 2 classes.\n",
      "Found 2756 images belonging to 2 classes.\n"
     ]
    }
   ],
   "source": [
    "valid_set = val_datagen.flow_from_directory('cell_images2/val/',target_size=(224,224),batch_size=32,\n",
    "                                              class_mode='categorical')\n",
    "\n",
    "test_set = test_datagen.flow_from_directory('cell_images2/test/',target_size=(224,224),batch_size=32,\n",
    "                                              class_mode='categorical')"
   ]
  },
  {
   "cell_type": "code",
   "execution_count": 35,
   "id": "e7bbd584",
   "metadata": {
    "ExecuteTime": {
     "end_time": "2023-03-01T23:28:29.504537Z",
     "start_time": "2023-03-01T22:41:45.911657Z"
    }
   },
   "outputs": [
    {
     "name": "stdout",
     "output_type": "stream",
     "text": [
      "Epoch 1/10\n",
      "603/603 [==============================] - 337s 559ms/step - loss: 0.4779 - accuracy: 0.7781 - val_loss: 0.2798 - val_accuracy: 0.9175\n",
      "Epoch 2/10\n",
      "603/603 [==============================] - 267s 444ms/step - loss: 0.2190 - accuracy: 0.9294 - val_loss: 0.1811 - val_accuracy: 0.9430\n",
      "Epoch 3/10\n",
      "603/603 [==============================] - 243s 403ms/step - loss: 0.1977 - accuracy: 0.9366 - val_loss: 0.1715 - val_accuracy: 0.9478\n",
      "Epoch 4/10\n",
      "603/603 [==============================] - 292s 484ms/step - loss: 0.1677 - accuracy: 0.9486 - val_loss: 0.1815 - val_accuracy: 0.9488\n",
      "Epoch 5/10\n",
      "603/603 [==============================] - 250s 415ms/step - loss: 0.1676 - accuracy: 0.9494 - val_loss: 0.1611 - val_accuracy: 0.9536\n",
      "Epoch 6/10\n",
      "603/603 [==============================] - 302s 501ms/step - loss: 0.1604 - accuracy: 0.9512 - val_loss: 0.1569 - val_accuracy: 0.9554\n",
      "Epoch 7/10\n",
      "603/603 [==============================] - 270s 448ms/step - loss: 0.1536 - accuracy: 0.9518 - val_loss: 0.1463 - val_accuracy: 0.9592\n",
      "Epoch 8/10\n",
      "603/603 [==============================] - 256s 424ms/step - loss: 0.1469 - accuracy: 0.9528 - val_loss: 0.1475 - val_accuracy: 0.9545\n",
      "Epoch 9/10\n",
      "603/603 [==============================] - 297s 493ms/step - loss: 0.1507 - accuracy: 0.9522 - val_loss: 0.1452 - val_accuracy: 0.9574\n",
      "Epoch 10/10\n",
      "603/603 [==============================] - 288s 478ms/step - loss: 0.1348 - accuracy: 0.9569 - val_loss: 0.1363 - val_accuracy: 0.9612\n"
     ]
    }
   ],
   "source": [
    "#fit the model\n",
    "with tf.device('/GPU:0'):\n",
    "    r = model.fit(train_set,\n",
    "                  validation_data=valid_set,\n",
    "                  epochs=10,\n",
    "                  steps_per_epoch=len(train_set),\n",
    "                  validation_steps=len(valid_set)\n",
    "                 )"
   ]
  },
  {
   "cell_type": "code",
   "execution_count": 36,
   "id": "9ffe85cd",
   "metadata": {
    "ExecuteTime": {
     "end_time": "2023-03-01T23:28:55.793057Z",
     "start_time": "2023-03-01T23:28:55.336958Z"
    }
   },
   "outputs": [
    {
     "data": {
      "image/png": "[encoded data removed]",
      "text/plain": [
       "<Figure size 432x288 with 1 Axes>"
      ]
     },
     "metadata": {
      "needs_background": "light"
     },
     "output_type": "display_data"
    },
    {
     "data": {
      "image/png": "[encoded data removed]",
      "text/plain": [
       "<Figure size 432x288 with 1 Axes>"
      ]
     },
     "metadata": {
      "needs_background": "light"
     },
     "output_type": "display_data"
    },
    {
     "data": {
      "text/plain": [
       "<Figure size 432x288 with 0 Axes>"
      ]
     },
     "metadata": {},
     "output_type": "display_data"
    }
   ],
   "source": [
    "#plot the loss\n",
    "plt.plot(r.history['loss'], label='train_loss')\n",
    "plt.plot(r.history['val_loss'], label='val_loss')\n",
    "plt.legend()\n",
    "plt.show()\n",
    "plt.savefig('plot_Loss')\n",
    "\n",
    "#Plot the accuracy\n",
    "plt.plot(r.history['accuracy'], label='train_acc')\n",
    "plt.plot(r.history['val_accuracy'], label='val_acc')\n",
    "plt.legend()\n",
    "plt.show()\n",
    "plt.savefig('plot_accuracy')"
   ]
  },
  {
   "cell_type": "code",
   "execution_count": 37,
   "id": "59c9f1e1",
   "metadata": {
    "ExecuteTime": {
     "end_time": "2023-03-01T23:29:05.228457Z",
     "start_time": "2023-03-01T23:29:04.566049Z"
    }
   },
   "outputs": [],
   "source": [
    "from tensorflow.keras.models import load_model\n",
    "model.save('model_vgg19.h5')"
   ]
  },
  {
   "cell_type": "code",
   "execution_count": 38,
   "id": "85f1ee62",
   "metadata": {
    "ExecuteTime": {
     "end_time": "2023-03-01T23:29:25.894447Z",
     "start_time": "2023-03-01T23:29:06.170732Z"
    }
   },
   "outputs": [],
   "source": [
    "y_pred = model.predict(test_set)"
   ]
  },
  {
   "cell_type": "code",
   "execution_count": 39,
   "id": "66c64ef8",
   "metadata": {
    "ExecuteTime": {
     "end_time": "2023-03-01T23:29:25.909493Z",
     "start_time": "2023-03-01T23:29:25.897440Z"
    }
   },
   "outputs": [
    {
     "data": {
      "text/plain": [
       "array([1, 0, 1, ..., 0, 1, 1], dtype=int64)"
      ]
     },
     "execution_count": 39,
     "metadata": {},
     "output_type": "execute_result"
    }
   ],
   "source": [
    "y_pred = np.argmax(y_pred,axis=1)\n",
    "y_pred"
   ]
  },
  {
   "cell_type": "code",
   "execution_count": 40,
   "id": "c02aec97",
   "metadata": {
    "ExecuteTime": {
     "end_time": "2023-03-01T23:29:52.244903Z",
     "start_time": "2023-03-01T23:29:51.275812Z"
    }
   },
   "outputs": [],
   "source": [
    "from tensorflow.keras.models import load_model\n",
    "from tensorflow.keras.preprocessing import image\n",
    "\n",
    "model=load_model('model_vgg19.h5')"
   ]
  },
  {
   "cell_type": "code",
   "execution_count": 44,
   "id": "a7645e4c",
   "metadata": {
    "ExecuteTime": {
     "end_time": "2023-03-01T23:30:44.096474Z",
     "start_time": "2023-03-01T23:30:44.076509Z"
    }
   },
   "outputs": [
    {
     "data": {
      "text/plain": [
       "(224, 224, 3)"
      ]
     },
     "execution_count": 44,
     "metadata": {},
     "output_type": "execute_result"
    }
   ],
   "source": [
    "img=image.load_img('C:/Users/aalah/1_Object_detection/cell_images/Parasitized/C33P1thinF_IMG_20150619_121229a_cell_177.png',\n",
    "                  target_size=(224,224))\n",
    "x=image.img_to_array(img)\n",
    "x.shape"
   ]
  },
  {
   "cell_type": "code",
   "execution_count": 45,
   "id": "f05f6844",
   "metadata": {
    "ExecuteTime": {
     "end_time": "2023-03-01T23:30:46.061790Z",
     "start_time": "2023-03-01T23:30:46.050822Z"
    }
   },
   "outputs": [],
   "source": [
    "x=x/255"
   ]
  },
  {
   "cell_type": "code",
   "execution_count": 46,
   "id": "29524369",
   "metadata": {
    "ExecuteTime": {
     "end_time": "2023-03-01T23:30:46.658516Z",
     "start_time": "2023-03-01T23:30:46.644554Z"
    }
   },
   "outputs": [
    {
     "data": {
      "text/plain": [
       "(1, 224, 224, 3)"
      ]
     },
     "execution_count": 46,
     "metadata": {},
     "output_type": "execute_result"
    }
   ],
   "source": [
    "x=np.expand_dims(x,axis=0)\n",
    "img_data=preprocess_input(x)\n",
    "img_data.shape"
   ]
  },
  {
   "cell_type": "code",
   "execution_count": 47,
   "id": "ec3088d5",
   "metadata": {
    "ExecuteTime": {
     "end_time": "2023-03-01T23:30:51.835902Z",
     "start_time": "2023-03-01T23:30:51.532203Z"
    }
   },
   "outputs": [
    {
     "data": {
      "text/plain": [
       "array([[1., 0.]], dtype=float32)"
      ]
     },
     "execution_count": 47,
     "metadata": {},
     "output_type": "execute_result"
    }
   ],
   "source": [
    "model.predict(img_data)"
   ]
  },
  {
   "cell_type": "code",
   "execution_count": 89,
   "id": "60497d07",
   "metadata": {
    "ExecuteTime": {
     "end_time": "2023-03-01T23:55:27.300329Z",
     "start_time": "2023-03-01T23:55:27.289358Z"
    }
   },
   "outputs": [
    {
     "data": {
      "text/plain": [
       "{'Parasitized': 0, 'Uninfected': 1}"
      ]
     },
     "execution_count": 89,
     "metadata": {},
     "output_type": "execute_result"
    }
   ],
   "source": [
    "test_set.class_indices"
   ]
  },
  {
   "cell_type": "code",
   "execution_count": 90,
   "id": "4d26cd6a",
   "metadata": {
    "ExecuteTime": {
     "end_time": "2023-03-01T23:55:42.844202Z",
     "start_time": "2023-03-01T23:55:42.830924Z"
    }
   },
   "outputs": [
    {
     "data": {
      "text/plain": [
       "array([0, 0, 0, ..., 1, 1, 1])"
      ]
     },
     "execution_count": 90,
     "metadata": {},
     "output_type": "execute_result"
    }
   ],
   "source": [
    "test_set.labels"
   ]
  },
  {
   "cell_type": "code",
   "execution_count": 91,
   "id": "03c10123",
   "metadata": {
    "ExecuteTime": {
     "end_time": "2023-03-01T23:55:54.954327Z",
     "start_time": "2023-03-01T23:55:54.928327Z"
    }
   },
   "outputs": [
    {
     "data": {
      "text/plain": [
       "array([[[702, 676],\n",
       "        [683, 695]],\n",
       "\n",
       "       [[695, 683],\n",
       "        [676, 702]]], dtype=int64)"
      ]
     },
     "execution_count": 91,
     "metadata": {},
     "output_type": "execute_result"
    }
   ],
   "source": [
    "from sklearn.metrics import multilabel_confusion_matrix, accuracy_score\n",
    "\n",
    "multilabel_confusion_matrix(test_set.labels,y_pred)"
   ]
  },
  {
   "cell_type": "code",
   "execution_count": 92,
   "id": "b0eab89d",
   "metadata": {
    "ExecuteTime": {
     "end_time": "2023-03-01T23:56:25.761403Z",
     "start_time": "2023-03-01T23:56:25.742372Z"
    }
   },
   "outputs": [
    {
     "data": {
      "text/plain": [
       "0.5068940493468795"
      ]
     },
     "execution_count": 92,
     "metadata": {},
     "output_type": "execute_result"
    }
   ],
   "source": [
    "accuracy_score(test_set.labels,y_pred) #50%"
   ]
  },
  {
   "cell_type": "code",
   "execution_count": null,
   "id": "3cf85843",
   "metadata": {},
   "outputs": [],
   "source": []
  }
 ],
 "metadata": {
  "kernelspec": {
   "display_name": "Python 3 (ipykernel)",
   "language": "python",
   "name": "python3"
  },
  "language_info": {
   "codemirror_mode": {
    "name": "ipython",
    "version": 3
   },
   "file_extension": ".py",
   "mimetype": "text/x-python",
   "name": "python",
   "nbconvert_exporter": "python",
   "pygments_lexer": "ipython3",
   "version": "3.9.7"
  },
  "toc": {
   "base_numbering": 1,
   "nav_menu": {},
   "number_sections": true,
   "sideBar": true,
   "skip_h1_title": false,
   "title_cell": "Table of Contents",
   "title_sidebar": "Contents",
   "toc_cell": false,
   "toc_position": {},
   "toc_section_display": true,
   "toc_window_display": false
  }
 },
 "nbformat": 4,
 "nbformat_minor": 5
}
